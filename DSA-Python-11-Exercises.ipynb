{
 "cells": [
  {
   "cell_type": "code",
   "execution_count": 11,
   "id": "9dba2579-ad59-40a6-b7f8-07e258546ac0",
   "metadata": {},
   "outputs": [],
   "source": [
    "a = list(range(0,3))"
   ]
  },
  {
   "cell_type": "code",
   "execution_count": 23,
   "id": "f836fcd2-61e1-4b6c-912c-9b12ccb7426d",
   "metadata": {},
   "outputs": [
    {
     "name": "stdout",
     "output_type": "stream",
     "text": [
      "0\n",
      "1\n",
      "8\n"
     ]
    }
   ],
   "source": [
    "for x in a:\n",
    "    l = lambda x : x ** 3\n",
    "    print(l(x))"
   ]
  },
  {
   "cell_type": "code",
   "execution_count": 25,
   "id": "e79db912-5c20-4eba-99ef-0cf076019198",
   "metadata": {},
   "outputs": [
    {
     "name": "stdout",
     "output_type": "stream",
     "text": [
      "['A', 'a', 1]\n",
      "['DATA', 'data', 4]\n",
      "['SCIENCE', 'science', 7]\n",
      "['ACADEMY', 'academy', 7]\n",
      "['OFERCE', 'oferce', 6]\n",
      "['OS', 'os', 2]\n",
      "['MELHORES', 'melhores', 8]\n",
      "['CURSOS', 'cursos', 6]\n",
      "['DE', 'de', 2]\n",
      "['ANÁLISE', 'análise', 7]\n",
      "['DE', 'de', 2]\n",
      "['DADOS', 'dados', 5]\n",
      "['DO', 'do', 2]\n",
      "['BRASIL.', 'brasil.', 7]\n"
     ]
    }
   ],
   "source": [
    "palavras = 'A Data Science Academy oferce os melhores cursos de análise de dados do Brasil.'.split()\n",
    "resultado = [[w.upper(), w.lower(), len(w)] for w in palavras]\n",
    "for i in resultado:\n",
    "    print (i)"
   ]
  },
  {
   "cell_type": "code",
   "execution_count": 35,
   "id": "bb967d30-c9e1-4048-a947-dda4026c64a1",
   "metadata": {},
   "outputs": [
    {
     "name": "stdout",
     "output_type": "stream",
     "text": [
      "[['A', 'a', 1], ['DATA', 'data', 4], ['SCIENCE', 'science', 7], ['ACADEMY', 'academy', 7], ['OFERCE', 'oferce', 6], ['OS', 'os', 2], ['MELHORES', 'melhores', 8], ['CURSOS', 'cursos', 6], ['DE', 'de', 2], ['ANÁLISE', 'análise', 7], ['DE', 'de', 2], ['DADOS', 'dados', 5], ['DO', 'do', 2], ['BRASIL.', 'brasil.', 7]]\n"
     ]
    }
   ],
   "source": [
    "palavras = 'A Data Science Academy oferce os melhores cursos de análise de dados do Brasil.'\n",
    "resultado = list(map(lambda x : [x.upper(), x.lower(), len(x)], palavras.split()))\n",
    "print(resultado)"
   ]
  },
  {
   "cell_type": "code",
   "execution_count": 39,
   "id": "3f5471c5-47d5-4034-b1fc-8c50561c7b78",
   "metadata": {},
   "outputs": [
    {
     "name": "stdout",
     "output_type": "stream",
     "text": [
      "[[1, 3, 5, 7], [2, 4, 6, 8]]\n"
     ]
    }
   ],
   "source": [
    "matrix = [\n",
    "        [1,2],\n",
    "        [3,4],\n",
    "        [5,6],\n",
    "        [7,8]\n",
    "]\n",
    "\n",
    "transpose = [[row[i] for row in matrix] for i in range(2)]\n",
    "\n",
    "print(transpose)"
   ]
  },
  {
   "cell_type": "code",
   "execution_count": 83,
   "id": "5be28408-809b-40ea-b84c-b9c029c8f55b",
   "metadata": {},
   "outputs": [
    {
     "name": "stdout",
     "output_type": "stream",
     "text": [
      "[(0, 0), (1, 1), (4, 8), (9, 27), (16, 64)] \n",
      "\n",
      "Cubo: [0, 1, 4, 9, 16]\n",
      "Quadrado: [0, 1, 8, 27, 64]\n",
      "Lista Completa: [[0, 1, 4, 9, 16], [0, 1, 8, 27, 64]]\n"
     ]
    }
   ],
   "source": [
    "lista = [0, 1, 2, 3, 4]\n",
    "\n",
    "results = list(map(lambda x: (x ** 2, x ** 3),lista))\n",
    "\n",
    "print(results,\"\\n\")\n",
    "\n",
    "cubo =[row[0] for row in results]\n",
    "quadrado =[row[1] for row in results]\n",
    "\n",
    "lista_completa = [[row[0] for row in results], [row[1] for row in results]]\n",
    "\n",
    "print(f\"Cubo: {cubo}\\nQuadrado: {quadrado}\\nLista Completa: {lista_completa}\")\n"
   ]
  },
  {
   "cell_type": "code",
   "execution_count": null,
   "id": "b01bc160-5592-4628-a9e2-9a9d2c58d693",
   "metadata": {},
   "outputs": [],
   "source": []
  }
 ],
 "metadata": {
  "kernelspec": {
   "display_name": "Python [conda env:base] *",
   "language": "python",
   "name": "conda-base-py"
  },
  "language_info": {
   "codemirror_mode": {
    "name": "ipython",
    "version": 3
   },
   "file_extension": ".py",
   "mimetype": "text/x-python",
   "name": "python",
   "nbconvert_exporter": "python",
   "pygments_lexer": "ipython3",
   "version": "3.12.7"
  }
 },
 "nbformat": 4,
 "nbformat_minor": 5
}
