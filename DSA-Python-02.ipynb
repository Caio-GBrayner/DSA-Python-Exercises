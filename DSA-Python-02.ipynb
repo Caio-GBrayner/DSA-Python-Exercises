{
 "cells": [
  {
   "cell_type": "code",
   "execution_count": 1,
   "id": "9a30ad1b-51bc-462b-b9cc-e523d71ef7b7",
   "metadata": {},
   "outputs": [],
   "source": [
    "texto = \"Cientista de Dados pode ser uma excelente alternativa de carreira.\\n\"\n",
    "texto = texto + \"Esses profissionais precisam saber como programar em Python.\\n\"\n",
    "texto += \"E, claro, devem ser proficientes em Data Science.\""
   ]
  },
  {
   "cell_type": "code",
   "execution_count": 3,
   "id": "41fbe0ee-2fd2-4b18-9a5a-12aaca44b132",
   "metadata": {},
   "outputs": [
    {
     "name": "stdout",
     "output_type": "stream",
     "text": [
      "Cientista de Dados pode ser uma excelente alternativa de carreira.\n",
      "Esses profissionais precisam saber como programar em Python.\n",
      "E, claro, devem ser proficientes em Data Science.\n"
     ]
    }
   ],
   "source": [
    "print(texto)"
   ]
  },
  {
   "cell_type": "code",
   "execution_count": 5,
   "id": "ea69d8b6-de46-4d0a-a576-65cfac6ec93f",
   "metadata": {},
   "outputs": [],
   "source": [
    "import os"
   ]
  },
  {
   "cell_type": "code",
   "execution_count": 7,
   "id": "4e854ab3-2e35-4628-88e6-d2aebde28f9c",
   "metadata": {},
   "outputs": [],
   "source": [
    "arquivo = open(os.path.join(\"c:/temp/DSA/Cap06-items/arquivos/cientista.txt\"),'w')"
   ]
  },
  {
   "cell_type": "code",
   "execution_count": 9,
   "id": "0166fdc4-5d64-4abe-a193-10a6b3e6ea20",
   "metadata": {},
   "outputs": [],
   "source": [
    "for palavra in texto.split():\n",
    "    arquivo.write(palavra+\" \")"
   ]
  },
  {
   "cell_type": "code",
   "execution_count": 11,
   "id": "df2715b0-7e98-436f-a7c9-9e8d3fb5ada0",
   "metadata": {},
   "outputs": [],
   "source": [
    "arquivo.close()"
   ]
  },
  {
   "cell_type": "code",
   "execution_count": 13,
   "id": "636889c8-b5ba-478a-ae3d-1ab9a11129ff",
   "metadata": {},
   "outputs": [
    {
     "name": "stdout",
     "output_type": "stream",
     "text": [
      "Cientista de Dados pode ser uma excelente alternativa de carreira. Esses profissionais precisam saber como programar em Python. E, claro, devem ser proficientes em Data Science. \n"
     ]
    }
   ],
   "source": [
    "arquivo = open(\"c:/temp/DSA/Cap06-items/arquivos/cientista.txt\", \"r\")\n",
    "conteudo = arquivo.read()\n",
    "arquivo.close()\n",
    "\n",
    "print(conteudo)"
   ]
  },
  {
   "cell_type": "code",
   "execution_count": 17,
   "id": "06d5fa9b-74f6-425a-8838-3df2d6cc5714",
   "metadata": {},
   "outputs": [],
   "source": [
    "with open(\"c:/temp/DSA/Cap06-items/arquivos/cientista.txt\", \"r\") as arquivo:\n",
    "    conteudo = arquivo.read()"
   ]
  },
  {
   "cell_type": "code",
   "execution_count": 19,
   "id": "e3378a46-542c-41be-970a-c27808f95919",
   "metadata": {},
   "outputs": [
    {
     "name": "stdout",
     "output_type": "stream",
     "text": [
      "Cientista de Dados pode ser uma excelente alternativa de carreira. Esses profissionais precisam saber como programar em Python. E, claro, devem ser proficientes em Data Science. \n"
     ]
    }
   ],
   "source": [
    "print(conteudo)"
   ]
  },
  {
   "cell_type": "code",
   "execution_count": 23,
   "id": "6662052b-794c-4a9d-8877-01af28ee06de",
   "metadata": {},
   "outputs": [],
   "source": [
    "with open(\"c:/temp/DSA/Cap06-items/arquivos/cientista.txt\", \"w\") as arquivo:\n",
    "        arquivo.write(texto[:19])\n",
    "        arquivo.write('\\n')\n",
    "        arquivo.write(texto[28:66])"
   ]
  },
  {
   "cell_type": "code",
   "execution_count": 27,
   "id": "5bcc4262-7570-4a26-9bdf-27d7a52430f0",
   "metadata": {},
   "outputs": [
    {
     "name": "stdout",
     "output_type": "stream",
     "text": [
      "Cientista de Dados \n",
      "uma excelente alternativa de carreira.\n"
     ]
    }
   ],
   "source": [
    "arquivo = open(\"c:/temp/DSA/Cap06-items/arquivos/cientista.txt\",'r')\n",
    "conteudo = arquivo.read()\n",
    "arquivo.close()\n",
    "print (conteudo)"
   ]
  },
  {
   "cell_type": "code",
   "execution_count": 29,
   "id": "909855e6-f424-42d2-bc0b-3747c3cde65b",
   "metadata": {},
   "outputs": [],
   "source": [
    "import csv"
   ]
  },
  {
   "cell_type": "code",
   "execution_count": 33,
   "id": "fd22480a-b8ec-4118-a557-68e4943e5ba1",
   "metadata": {},
   "outputs": [],
   "source": [
    "with open(\"c:/temp/DSA/Cap06-items/arquivos/numeros.csv\",'w') as arquivo:\n",
    "    \n",
    "    writer = csv.writer(arquivo)\n",
    "    \n",
    "    writer.writerow(('nota1', 'nota2', 'nota3'))\n",
    "    writer.writerow((63,87,92)) \n",
    "    writer.writerow((61,79,76))\n",
    "    writer.writerow((72,64,91))\n",
    "    \n",
    "    writer = csv.writer(arquivo)\n",
    "    \n",
    "    writer.writerow(('nota1', 'nota2', 'nota3'))\n",
    "    writer.writerow((63,87,92)) \n",
    "    writer.writerow((61,79,76))\n",
    "    writer.writerow((72,64,91))"
   ]
  },
  {
   "cell_type": "code",
   "execution_count": 51,
   "id": "8cc7257e-16cc-4b4a-8c4a-f0df2c4f61b7",
   "metadata": {},
   "outputs": [
    {
     "name": "stdout",
     "output_type": "stream",
     "text": [
      "['nota1', 'nota2', 'nota3']\n",
      "['63', '87', '92']\n",
      "['61', '79', '76']\n",
      "['72', '64', '91']\n",
      "['nota1', 'nota2', 'nota3']\n",
      "['63', '87', '92']\n",
      "['61', '79', '76']\n",
      "['72', '64', '91']\n"
     ]
    }
   ],
   "source": [
    "with open(\"c:/temp/DSA/Cap06-items/arquivos/numeros.csv\", \"r\", encoding='utf8', newline = '\\r\\n') as arquivo:\n",
    "    leitor = csv.reader(arquivo)\n",
    "    \n",
    "\n",
    "    for x in leitor:\n",
    "        print(x)"
   ]
  },
  {
   "cell_type": "code",
   "execution_count": 53,
   "id": "72873537-d010-4c60-9ff6-ee4be7469023",
   "metadata": {},
   "outputs": [],
   "source": [
    "with open(\"c:/temp/DSA/Cap06-items/arquivos/numeros.csv\", \"r\") as arquivo:\n",
    "    leitor = csv.reader(arquivo)\n",
    "    dados = list(leitor)"
   ]
  },
  {
   "cell_type": "code",
   "execution_count": 55,
   "id": "3a36d714-0641-46a4-bbf6-b8eac90b8146",
   "metadata": {},
   "outputs": [
    {
     "name": "stdout",
     "output_type": "stream",
     "text": [
      "[['nota1', 'nota2', 'nota3'], [], ['63', '87', '92'], [], ['61', '79', '76'], [], ['72', '64', '91'], [], ['nota1', 'nota2', 'nota3'], [], ['63', '87', '92'], [], ['61', '79', '76'], [], ['72', '64', '91'], []]\n"
     ]
    }
   ],
   "source": [
    "print(dados)"
   ]
  },
  {
   "cell_type": "code",
   "execution_count": 59,
   "id": "774cd312-e2a9-465c-aa4b-8ac27f667be4",
   "metadata": {},
   "outputs": [
    {
     "name": "stdout",
     "output_type": "stream",
     "text": [
      "[]\n",
      "['63', '87', '92']\n",
      "[]\n",
      "['61', '79', '76']\n",
      "[]\n",
      "['72', '64', '91']\n",
      "[]\n",
      "['nota1', 'nota2', 'nota3']\n",
      "[]\n",
      "['63', '87', '92']\n",
      "[]\n",
      "['61', '79', '76']\n",
      "[]\n",
      "['72', '64', '91']\n",
      "[]\n"
     ]
    }
   ],
   "source": [
    "for x in dados[1:]:\n",
    "    print(x)"
   ]
  },
  {
   "cell_type": "code",
   "execution_count": null,
   "id": "5617e946-b96c-4a97-b4e3-2f96003bf1fa",
   "metadata": {},
   "outputs": [],
   "source": []
  }
 ],
 "metadata": {
  "kernelspec": {
   "display_name": "Python [conda env:base] *",
   "language": "python",
   "name": "conda-base-py"
  },
  "language_info": {
   "codemirror_mode": {
    "name": "ipython",
    "version": 3
   },
   "file_extension": ".py",
   "mimetype": "text/x-python",
   "name": "python",
   "nbconvert_exporter": "python",
   "pygments_lexer": "ipython3",
   "version": "3.12.7"
  }
 },
 "nbformat": 4,
 "nbformat_minor": 5
}
