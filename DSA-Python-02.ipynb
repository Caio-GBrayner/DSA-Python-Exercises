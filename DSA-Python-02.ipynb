{
 "cells": [
  {
   "cell_type": "code",
   "execution_count": 1,
   "id": "9a30ad1b-51bc-462b-b9cc-e523d71ef7b7",
   "metadata": {},
   "outputs": [],
   "source": [
    "texto = \"Cientista de Dados pode ser uma excelente alternativa de carreira.\\n\"\n",
    "texto = texto + \"Esses profissionais precisam saber como programar em Python.\\n\"\n",
    "texto += \"E, claro, devem ser proficientes em Data Science.\""
   ]
  },
  {
   "cell_type": "code",
   "execution_count": 3,
   "id": "41fbe0ee-2fd2-4b18-9a5a-12aaca44b132",
   "metadata": {},
   "outputs": [
    {
     "name": "stdout",
     "output_type": "stream",
     "text": [
      "Cientista de Dados pode ser uma excelente alternativa de carreira.\n",
      "Esses profissionais precisam saber como programar em Python.\n",
      "E, claro, devem ser proficientes em Data Science.\n"
     ]
    }
   ],
   "source": [
    "print(texto)"
   ]
  },
  {
   "cell_type": "code",
   "execution_count": 5,
   "id": "ea69d8b6-de46-4d0a-a576-65cfac6ec93f",
   "metadata": {},
   "outputs": [],
   "source": [
    "import os"
   ]
  },
  {
   "cell_type": "code",
   "execution_count": 7,
   "id": "4e854ab3-2e35-4628-88e6-d2aebde28f9c",
   "metadata": {},
   "outputs": [],
   "source": [
    "arquivo = open(os.path.join(\"c:/temp/DSA/Cap06-items/arquivos/cientista.txt\"),'w')"
   ]
  },
  {
   "cell_type": "code",
   "execution_count": 9,
   "id": "0166fdc4-5d64-4abe-a193-10a6b3e6ea20",
   "metadata": {},
   "outputs": [],
   "source": [
    "for palavra in texto.split():\n",
    "    arquivo.write(palavra+\" \")"
   ]
  },
  {
   "cell_type": "code",
   "execution_count": 11,
   "id": "df2715b0-7e98-436f-a7c9-9e8d3fb5ada0",
   "metadata": {},
   "outputs": [],
   "source": [
    "arquivo.close()"
   ]
  },
  {
   "cell_type": "code",
   "execution_count": 13,
   "id": "636889c8-b5ba-478a-ae3d-1ab9a11129ff",
   "metadata": {},
   "outputs": [
    {
     "name": "stdout",
     "output_type": "stream",
     "text": [
      "Cientista de Dados pode ser uma excelente alternativa de carreira. Esses profissionais precisam saber como programar em Python. E, claro, devem ser proficientes em Data Science. \n"
     ]
    }
   ],
   "source": [
    "arquivo = open(\"c:/temp/DSA/Cap06-items/arquivos/cientista.txt\", \"r\")\n",
    "conteudo = arquivo.read()\n",
    "arquivo.close()\n",
    "\n",
    "print(conteudo)"
   ]
  },
  {
   "cell_type": "code",
   "execution_count": 17,
   "id": "06d5fa9b-74f6-425a-8838-3df2d6cc5714",
   "metadata": {},
   "outputs": [],
   "source": [
    "with open(\"c:/temp/DSA/Cap06-items/arquivos/cientista.txt\", \"r\") as arquivo:\n",
    "    conteudo = arquivo.read()"
   ]
  },
  {
   "cell_type": "code",
   "execution_count": 19,
   "id": "e3378a46-542c-41be-970a-c27808f95919",
   "metadata": {},
   "outputs": [
    {
     "name": "stdout",
     "output_type": "stream",
     "text": [
      "Cientista de Dados pode ser uma excelente alternativa de carreira. Esses profissionais precisam saber como programar em Python. E, claro, devem ser proficientes em Data Science. \n"
     ]
    }
   ],
   "source": [
    "print(conteudo)"
   ]
  },
  {
   "cell_type": "code",
   "execution_count": 23,
   "id": "6662052b-794c-4a9d-8877-01af28ee06de",
   "metadata": {},
   "outputs": [],
   "source": [
    "with open(\"c:/temp/DSA/Cap06-items/arquivos/cientista.txt\", \"w\") as arquivo:\n",
    "        arquivo.write(texto[:19])\n",
    "        arquivo.write('\\n')\n",
    "        arquivo.write(texto[28:66])"
   ]
  },
  {
   "cell_type": "code",
   "execution_count": 27,
   "id": "5bcc4262-7570-4a26-9bdf-27d7a52430f0",
   "metadata": {},
   "outputs": [
    {
     "name": "stdout",
     "output_type": "stream",
     "text": [
      "Cientista de Dados \n",
      "uma excelente alternativa de carreira.\n"
     ]
    }
   ],
   "source": [
    "arquivo = open(\"c:/temp/DSA/Cap06-items/arquivos/cientista.txt\",'r')\n",
    "conteudo = arquivo.read()\n",
    "arquivo.close()\n",
    "print (conteudo)"
   ]
  },
  {
   "cell_type": "code",
   "execution_count": 29,
   "id": "909855e6-f424-42d2-bc0b-3747c3cde65b",
   "metadata": {},
   "outputs": [],
   "source": [
    "import csv"
   ]
  },
  {
   "cell_type": "code",
   "execution_count": 33,
   "id": "fd22480a-b8ec-4118-a557-68e4943e5ba1",
   "metadata": {},
   "outputs": [],
   "source": [
    "with open(\"c:/temp/DSA/Cap06-items/arquivos/numeros.csv\",'w') as arquivo:\n",
    "    \n",
    "    writer = csv.writer(arquivo)\n",
    "    \n",
    "    writer.writerow(('nota1', 'nota2', 'nota3'))\n",
    "    writer.writerow((63,87,92)) \n",
    "    writer.writerow((61,79,76))\n",
    "    writer.writerow((72,64,91))\n",
    "    \n",
    "    writer = csv.writer(arquivo)\n",
    "    \n",
    "    writer.writerow(('nota1', 'nota2', 'nota3'))\n",
    "    writer.writerow((63,87,92)) \n",
    "    writer.writerow((61,79,76))\n",
    "    writer.writerow((72,64,91))"
   ]
  },
  {
   "cell_type": "code",
   "execution_count": 51,
   "id": "8cc7257e-16cc-4b4a-8c4a-f0df2c4f61b7",
   "metadata": {},
   "outputs": [
    {
     "name": "stdout",
     "output_type": "stream",
     "text": [
      "['nota1', 'nota2', 'nota3']\n",
      "['63', '87', '92']\n",
      "['61', '79', '76']\n",
      "['72', '64', '91']\n",
      "['nota1', 'nota2', 'nota3']\n",
      "['63', '87', '92']\n",
      "['61', '79', '76']\n",
      "['72', '64', '91']\n"
     ]
    }
   ],
   "source": [
    "with open(\"c:/temp/DSA/Cap06-items/arquivos/numeros.csv\", \"r\", encoding='utf8', newline = '\\r\\n') as arquivo:\n",
    "    leitor = csv.reader(arquivo)\n",
    "    \n",
    "\n",
    "    for x in leitor:\n",
    "        print(x)"
   ]
  },
  {
   "cell_type": "code",
   "execution_count": 53,
   "id": "72873537-d010-4c60-9ff6-ee4be7469023",
   "metadata": {},
   "outputs": [],
   "source": [
    "with open(\"c:/temp/DSA/Cap06-items/arquivos/numeros.csv\", \"r\") as arquivo:\n",
    "    leitor = csv.reader(arquivo)\n",
    "    dados = list(leitor)"
   ]
  },
  {
   "cell_type": "code",
   "execution_count": 55,
   "id": "3a36d714-0641-46a4-bbf6-b8eac90b8146",
   "metadata": {},
   "outputs": [
    {
     "name": "stdout",
     "output_type": "stream",
     "text": [
      "[['nota1', 'nota2', 'nota3'], [], ['63', '87', '92'], [], ['61', '79', '76'], [], ['72', '64', '91'], [], ['nota1', 'nota2', 'nota3'], [], ['63', '87', '92'], [], ['61', '79', '76'], [], ['72', '64', '91'], []]\n"
     ]
    }
   ],
   "source": [
    "print(dados)"
   ]
  },
  {
   "cell_type": "code",
   "execution_count": 59,
   "id": "774cd312-e2a9-465c-aa4b-8ac27f667be4",
   "metadata": {},
   "outputs": [
    {
     "name": "stdout",
     "output_type": "stream",
     "text": [
      "[]\n",
      "['63', '87', '92']\n",
      "[]\n",
      "['61', '79', '76']\n",
      "[]\n",
      "['72', '64', '91']\n",
      "[]\n",
      "['nota1', 'nota2', 'nota3']\n",
      "[]\n",
      "['63', '87', '92']\n",
      "[]\n",
      "['61', '79', '76']\n",
      "[]\n",
      "['72', '64', '91']\n",
      "[]\n"
     ]
    }
   ],
   "source": [
    "for x in dados[1:]:\n",
    "    print(x)"
   ]
  },
  {
   "cell_type": "code",
   "execution_count": 61,
   "id": "5617e946-b96c-4a97-b4e3-2f96003bf1fa",
   "metadata": {},
   "outputs": [],
   "source": [
    "dict_guido = {'nome': 'Guido van Rossum',\n",
    "              'linguagem': 'Python',\n",
    "              'similar': ['c','Modula-3','lisp'],\n",
    "              'users': 1000000}"
   ]
  },
  {
   "cell_type": "code",
   "execution_count": 63,
   "id": "59cbccdc-c2c0-4948-b738-bd1532c23798",
   "metadata": {},
   "outputs": [
    {
     "name": "stdout",
     "output_type": "stream",
     "text": [
      "nome Guido van Rossum\n",
      "linguagem Python\n",
      "similar ['c', 'Modula-3', 'lisp']\n",
      "users 1000000\n"
     ]
    }
   ],
   "source": [
    "for k,v in dict_guido.items():\n",
    "    print (k,v)"
   ]
  },
  {
   "cell_type": "code",
   "execution_count": 65,
   "id": "de5a8419-0e31-43be-87db-092212c74526",
   "metadata": {},
   "outputs": [],
   "source": [
    "import json"
   ]
  },
  {
   "cell_type": "code",
   "execution_count": 67,
   "id": "f63c4fba-97e9-4f0f-96f0-04a771551f5c",
   "metadata": {},
   "outputs": [
    {
     "data": {
      "text/plain": [
       "'{\"nome\": \"Guido van Rossum\", \"linguagem\": \"Python\", \"similar\": [\"c\", \"Modula-3\", \"lisp\"], \"users\": 1000000}'"
      ]
     },
     "execution_count": 67,
     "metadata": {},
     "output_type": "execute_result"
    }
   ],
   "source": [
    "json.dumps(dict_guido)"
   ]
  },
  {
   "cell_type": "code",
   "execution_count": 73,
   "id": "98623f0e-0fca-4dd2-9bda-55cf44ab50f7",
   "metadata": {},
   "outputs": [],
   "source": [
    "with open(\"c:/temp/DSA/Cap06-items/arquivos/dados.json\",'w') as arquivo:\n",
    "    arquivo.write(json.dumps(dict_guido))"
   ]
  },
  {
   "cell_type": "code",
   "execution_count": 77,
   "id": "60162afe-f100-4d27-8d5e-9d7770d26031",
   "metadata": {},
   "outputs": [],
   "source": [
    "with open('c:/temp/DSA/Cap06-items/arquivos/dados.json','r') as arquivo:\n",
    "    texto = arquivo.read()\n",
    "    dados = json.loads(texto)"
   ]
  },
  {
   "cell_type": "code",
   "execution_count": 79,
   "id": "eec74119-d143-4c53-947c-a004f068cd5f",
   "metadata": {},
   "outputs": [
    {
     "data": {
      "text/plain": [
       "{'nome': 'Guido van Rossum',\n",
       " 'linguagem': 'Python',\n",
       " 'similar': ['c', 'Modula-3', 'lisp'],\n",
       " 'users': 1000000}"
      ]
     },
     "execution_count": 79,
     "metadata": {},
     "output_type": "execute_result"
    }
   ],
   "source": [
    "dados"
   ]
  },
  {
   "cell_type": "code",
   "execution_count": 81,
   "id": "de5dae3d-ae9b-4ee5-8b9e-26eb0ddfd455",
   "metadata": {},
   "outputs": [
    {
     "name": "stdout",
     "output_type": "stream",
     "text": [
      "Guido van Rossum\n"
     ]
    }
   ],
   "source": [
    "print(dados['nome'])"
   ]
  },
  {
   "cell_type": "code",
   "execution_count": 83,
   "id": "8849f918-57af-451e-8d18-91437f896ee2",
   "metadata": {},
   "outputs": [],
   "source": [
    "from urllib.request import urlopen\n",
    "\n",
    "response = urlopen(\"http://vimeo.com/api/v2/video/57733101.json\").read().decode('utf8')\n",
    "dados = json.loads(response)[0]"
   ]
  },
  {
   "cell_type": "code",
   "execution_count": 85,
   "id": "be5e782f-afae-497f-917c-06d02dc2b69c",
   "metadata": {},
   "outputs": [
    {
     "data": {
      "text/plain": [
       "{'id': 57733101,\n",
       " 'title': 'The Good Man trailer',\n",
       " 'description': 'Trailer for the Manifesto Films production, The Good Man, now available in UK/Ireland/US/Canada/Australia/New Zealand on iTunes (https://itunes.apple.com/us/movie/the-good-man/id873130906) and DVD (http://www.amazon.co.uk/The-Good-Man-Aiden-Gillen/dp/B00IIK6CGU/). Co-production with Jet Black Entertainment (South Africa). Starring Aidan Gillen, Thabang Sidloyi, Kelly Campbell, Lunathi Mampofu. Written & directed by Phil Harrison. More info at www.thegoodmanfilm.com<br />\\r\\n<br />\\r\\nCheck out the Variety Magazine review here: http://www.variety.com/review/VE1117947909/',\n",
       " 'url': 'https://vimeo.com/57733101',\n",
       " 'upload_date': '2013-01-19 04:01:15',\n",
       " 'thumbnail_small': 'https://i.vimeocdn.com/video/436057121-e828a1f5478ec0136e957753d107f2a1268c64def9b82faac37c8e30c031cff2-d_100x75',\n",
       " 'thumbnail_medium': 'https://i.vimeocdn.com/video/436057121-e828a1f5478ec0136e957753d107f2a1268c64def9b82faac37c8e30c031cff2-d_200x150',\n",
       " 'thumbnail_large': 'https://i.vimeocdn.com/video/436057121-e828a1f5478ec0136e957753d107f2a1268c64def9b82faac37c8e30c031cff2-d_640',\n",
       " 'user_id': 1334563,\n",
       " 'user_name': 'Manifesto Films',\n",
       " 'user_url': 'https://vimeo.com/manifestofilms',\n",
       " 'user_portrait_small': 'https://i.vimeocdn.com/portrait/4778306_30x30?sig=dce4bd41e32adf3305ffd0a161ae27a5c919bba5773cf2f2c3ca5be075726518&v=1',\n",
       " 'user_portrait_medium': 'https://i.vimeocdn.com/portrait/4778306_75x75?sig=dce4bd41e32adf3305ffd0a161ae27a5c919bba5773cf2f2c3ca5be075726518&v=1',\n",
       " 'user_portrait_large': 'https://i.vimeocdn.com/portrait/4778306_100x100?sig=dce4bd41e32adf3305ffd0a161ae27a5c919bba5773cf2f2c3ca5be075726518&v=1',\n",
       " 'user_portrait_huge': 'https://i.vimeocdn.com/portrait/4778306_300x300?sig=dce4bd41e32adf3305ffd0a161ae27a5c919bba5773cf2f2c3ca5be075726518&v=1',\n",
       " 'stats_number_of_likes': 18,\n",
       " 'stats_number_of_plays': 6826,\n",
       " 'stats_number_of_comments': 2,\n",
       " 'duration': 143,\n",
       " 'width': 1024,\n",
       " 'height': 576,\n",
       " 'tags': 'belfast, cape town, africa, ireland, film',\n",
       " 'embed_privacy': 'anywhere'}"
      ]
     },
     "execution_count": 85,
     "metadata": {},
     "output_type": "execute_result"
    }
   ],
   "source": [
    "dados"
   ]
  },
  {
   "cell_type": "code",
   "execution_count": 87,
   "id": "9e33ce99-8c44-4de4-9200-252c384cb756",
   "metadata": {},
   "outputs": [
    {
     "name": "stdout",
     "output_type": "stream",
     "text": [
      "Título:  The Good Man trailer\n",
      "URL:  https://vimeo.com/57733101\n",
      "Duração:  143\n",
      "Número de Visualizações:  6826\n"
     ]
    }
   ],
   "source": [
    "print ('Título: ', dados['title'])\n",
    "print ('URL: ', dados['url'])\n",
    "print ('Duração: ', dados['duration'])\n",
    "print ('Número de Visualizações: ', dados['stats_number_of_plays'])"
   ]
  },
  {
   "cell_type": "code",
   "execution_count": 89,
   "id": "a62bf1b1-666e-4bc5-b5f6-45693c10a312",
   "metadata": {},
   "outputs": [],
   "source": [
    "arquivo_fonte = \"c:/temp/DSA/Cap06-items/arquivos/dados.json\"\n",
    "arquivo_destino = \"c:/temp/DSA/Cap06-items/arquivos/dados.txt\""
   ]
  },
  {
   "cell_type": "code",
   "execution_count": 93,
   "id": "c6c2184f-c344-4ca4-a270-b32d20928375",
   "metadata": {},
   "outputs": [],
   "source": [
    "with open(arquivo_fonte, \"r\") as infile:\n",
    "    text = infile.read()\n",
    "    with open(arquivo_destino, \"w\") as outfile:\n",
    "        outfile.write(text)"
   ]
  },
  {
   "cell_type": "code",
   "execution_count": 95,
   "id": "8c3ee2a7-beb7-419b-ac21-2794dc6d87e2",
   "metadata": {},
   "outputs": [
    {
     "data": {
      "text/plain": [
       "107"
      ]
     },
     "execution_count": 95,
     "metadata": {},
     "output_type": "execute_result"
    }
   ],
   "source": [
    "open(arquivo_destino,'w').write(open(arquivo_fonte,'r').read()) "
   ]
  },
  {
   "cell_type": "code",
   "execution_count": 99,
   "id": "41913fba-508c-490b-bf3c-71f673147117",
   "metadata": {},
   "outputs": [],
   "source": [
    "with open('c:/temp/DSA/Cap06-items/arquivos/dados.txt','r') as arquivo:\n",
    "    texto = arquivo.read()\n",
    "    dados = json.loads(texto)"
   ]
  },
  {
   "cell_type": "code",
   "execution_count": 101,
   "id": "40dab1aa-28ee-4901-b4ab-adab333b8c0c",
   "metadata": {},
   "outputs": [
    {
     "name": "stdout",
     "output_type": "stream",
     "text": [
      "{'nome': 'Guido van Rossum', 'linguagem': 'Python', 'similar': ['c', 'Modula-3', 'lisp'], 'users': 1000000}\n"
     ]
    }
   ],
   "source": [
    "print(dados)"
   ]
  }
 ],
 "metadata": {
  "kernelspec": {
   "display_name": "Python [conda env:base] *",
   "language": "python",
   "name": "conda-base-py"
  },
  "language_info": {
   "codemirror_mode": {
    "name": "ipython",
    "version": 3
   },
   "file_extension": ".py",
   "mimetype": "text/x-python",
   "name": "python",
   "nbconvert_exporter": "python",
   "pygments_lexer": "ipython3",
   "version": "3.12.7"
  }
 },
 "nbformat": 4,
 "nbformat_minor": 5
}
