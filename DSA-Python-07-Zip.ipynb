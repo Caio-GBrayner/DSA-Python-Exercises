{
 "cells": [
  {
   "cell_type": "code",
   "execution_count": 2,
   "id": "fc36b57a-4eb0-4f0c-959c-2b4342437c5a",
   "metadata": {},
   "outputs": [
    {
     "name": "stdout",
     "output_type": "stream",
     "text": [
      "Versão da Linguagem Python Usada Neste Jupyter Notebook: 3.12.7\n"
     ]
    }
   ],
   "source": [
    "from platform import python_version\n",
    "print('Versão da Linguagem Python Usada Neste Jupyter Notebook:', python_version())"
   ]
  },
  {
   "cell_type": "code",
   "execution_count": 4,
   "id": "529b7b49-c1e2-4053-8f79-0cae6f3a721c",
   "metadata": {},
   "outputs": [],
   "source": [
    "x = [1,2,3]\n",
    "y = [4,5,6]"
   ]
  },
  {
   "cell_type": "code",
   "execution_count": 6,
   "id": "06772760-470c-4824-946d-b0a7df71610d",
   "metadata": {},
   "outputs": [
    {
     "data": {
      "text/plain": [
       "<zip at 0x12751fa2600>"
      ]
     },
     "execution_count": 6,
     "metadata": {},
     "output_type": "execute_result"
    }
   ],
   "source": [
    "zip(x, y)"
   ]
  },
  {
   "cell_type": "code",
   "execution_count": 8,
   "id": "937eed7f-fdde-4884-93fe-a45041acb354",
   "metadata": {},
   "outputs": [
    {
     "data": {
      "text/plain": [
       "[(1, 4), (2, 5), (3, 6)]"
      ]
     },
     "execution_count": 8,
     "metadata": {},
     "output_type": "execute_result"
    }
   ],
   "source": [
    "list(zip(x,y))"
   ]
  },
  {
   "cell_type": "code",
   "execution_count": 10,
   "id": "f41a8df2-5160-41f2-908f-264822ff67ec",
   "metadata": {},
   "outputs": [
    {
     "data": {
      "text/plain": [
       "[('A', 'x'), ('B', 'y')]"
      ]
     },
     "execution_count": 10,
     "metadata": {},
     "output_type": "execute_result"
    }
   ],
   "source": [
    "list(zip('ABCD', 'xy'))"
   ]
  },
  {
   "cell_type": "code",
   "execution_count": 12,
   "id": "298d6ea5-79ce-427e-bab0-ebd262cdfb18",
   "metadata": {},
   "outputs": [],
   "source": [
    "a = [1,2,3]\n",
    "b = [4,5,6,7,8]"
   ]
  },
  {
   "cell_type": "code",
   "execution_count": 14,
   "id": "cfeed413-0df1-454b-be4f-a82a816657e2",
   "metadata": {},
   "outputs": [
    {
     "data": {
      "text/plain": [
       "[(1, 4), (2, 5), (3, 6)]"
      ]
     },
     "execution_count": 14,
     "metadata": {},
     "output_type": "execute_result"
    }
   ],
   "source": [
    "list(zip(a,b)) "
   ]
  },
  {
   "cell_type": "code",
   "execution_count": 16,
   "id": "cf5a6d61-bd0d-4486-9383-7420c0042c99",
   "metadata": {},
   "outputs": [],
   "source": [
    "d1 = {'a':1,'b':2}\n",
    "d2 = {'c':4,'d':5}"
   ]
  },
  {
   "cell_type": "code",
   "execution_count": 18,
   "id": "c68237a8-9d04-428a-940d-b126ce64ae7e",
   "metadata": {},
   "outputs": [
    {
     "data": {
      "text/plain": [
       "[('a', 'c'), ('b', 'd')]"
      ]
     },
     "execution_count": 18,
     "metadata": {},
     "output_type": "execute_result"
    }
   ],
   "source": [
    "list(zip(d1,d2))"
   ]
  },
  {
   "cell_type": "code",
   "execution_count": 20,
   "id": "8911f12e-38dc-4e75-aebc-e84b96e940a1",
   "metadata": {},
   "outputs": [
    {
     "data": {
      "text/plain": [
       "[('a', 4), ('b', 5)]"
      ]
     },
     "execution_count": 20,
     "metadata": {},
     "output_type": "execute_result"
    }
   ],
   "source": [
    "list(zip(d1, d2.values()))"
   ]
  },
  {
   "cell_type": "code",
   "execution_count": 22,
   "id": "adc53111-1587-45ac-bc19-a2309414a91c",
   "metadata": {},
   "outputs": [],
   "source": [
    "def trocaValores(d1, d2):\n",
    "    \n",
    "    dicTemp = {}\n",
    "    \n",
    "    for d1key, d2val in zip(d1, d2.values()):\n",
    "        dicTemp[d1key] = d2val\n",
    "    \n",
    "    return dicTemp"
   ]
  },
  {
   "cell_type": "code",
   "execution_count": 24,
   "id": "ffac3632-73cc-4519-9d60-d09bf3e95206",
   "metadata": {},
   "outputs": [
    {
     "data": {
      "text/plain": [
       "{'a': 4, 'b': 5}"
      ]
     },
     "execution_count": 24,
     "metadata": {},
     "output_type": "execute_result"
    }
   ],
   "source": [
    "trocaValores(d1, d2)"
   ]
  }
 ],
 "metadata": {
  "kernelspec": {
   "display_name": "Python [conda env:base] *",
   "language": "python",
   "name": "conda-base-py"
  },
  "language_info": {
   "codemirror_mode": {
    "name": "ipython",
    "version": 3
   },
   "file_extension": ".py",
   "mimetype": "text/x-python",
   "name": "python",
   "nbconvert_exporter": "python",
   "pygments_lexer": "ipython3",
   "version": "3.12.7"
  }
 },
 "nbformat": 4,
 "nbformat_minor": 5
}
